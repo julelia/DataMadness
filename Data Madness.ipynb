{
 "cells": [
  {
   "cell_type": "markdown",
   "metadata": {},
   "source": [
    "# Data Madness\n",
    "## The effect of VAR on the 2019-20 Premier League Season\n",
    "\n",
    "Video Assisted Referee (VAR) was introduced in the Premier League for the 2019-20 season and brought with it its load of controversies. The aim of this project is to analyse the impact of VAR on its introduction season. The research questions are the following:\n",
    "\n",
    "1. For what type of incidents is VAR most used?\n",
    "\n",
    "2. Is there a gap between the number of overturned decisions for and against each team? \n",
    "\n",
    "3. Is the number of disallowed goals significant? Would the season have been different if these goals were not disallowed?\n",
    "\n",
    "To answer them, two datasets are used: VAR_Incidents_Stats, that describes the types of incidents the VAR was used for, and VAR_Team_Stats, that describes the number of overturned decisions per team and how did these decisions affect the game."
   ]
  },
  {
   "cell_type": "code",
   "execution_count": 2,
   "metadata": {},
   "outputs": [],
   "source": [
    "import pandas as pd"
   ]
  },
  {
   "cell_type": "markdown",
   "metadata": {},
   "source": [
    "Let's first import the datasets."
   ]
  },
  {
   "cell_type": "code",
   "execution_count": 4,
   "metadata": {},
   "outputs": [
    {
     "name": "stdout",
     "output_type": "stream",
     "text": [
      "                       Team   Opponent Team     Date Site  \\\n",
      "0    Brighton & Hove Albion        West Ham  Aug. 17    H   \n",
      "1    Brighton & Hove Albion     Aston Villa  Oct. 19    A   \n",
      "2    Brighton & Hove Albion         Everton  Oct. 26    H   \n",
      "3    Brighton & Hove Albion       Leicester  Nov. 23    H   \n",
      "4    Brighton & Hove Albion        Arsenal    Dec. 5    A   \n",
      "..                      ...             ...      ...  ...   \n",
      "213            Norwich City  Crystal Palace   Jan. 1    H   \n",
      "214            Norwich City     Bournemouth  Jan. 18    H   \n",
      "215            Norwich City       Leicester  Feb. 28    H   \n",
      "216            Norwich City         Burnley  July 18    H   \n",
      "217            Norwich City        Man City  July 26    A   \n",
      "\n",
      "                                              Incident         Time VAR used  \n",
      "0    Brighton goal for Leandro Trossard ruled out f...  27th minute  AGAINST  \n",
      "1    Conor Hourihane goal ruled out for a foul by W...  42nd minute      FOR  \n",
      "2    Penalty awarded (scored by Neil Maupay) for fo...  78th minute      FOR  \n",
      "3    Jamie Vardy penalty retaken after James Maddis...  80th minute      FOR  \n",
      "4               David Luiz goal disallowed for offside  63rd minute      FOR  \n",
      "..                                                 ...          ...      ...  \n",
      "213  Connor Wickham goal awarded after originally b...  85th minute  AGAINST  \n",
      "214  Red card for Ben Godfrey for foul on Callum Wi...  76th minute  AGAINST  \n",
      "215  Goal for Kelechi Iheanacho disallowed for hand...  49th minute      FOR  \n",
      "216  Red card for Emiliano Buendia for an elbow on ...  33rd minute  AGAINST  \n",
      "217      Goal for Onel Hernandez ruled out for offside   7th minute  AGAINST  \n",
      "\n",
      "[218 rows x 7 columns]\n"
     ]
    }
   ],
   "source": [
    "incidents = pd.read_csv ('VAR_Incidents_Stats.csv')\n",
    "print (incidents)"
   ]
  },
  {
   "cell_type": "code",
   "execution_count": 9,
   "metadata": {
    "scrolled": true
   },
   "outputs": [
    {
     "name": "stdout",
     "output_type": "stream",
     "text": [
      "                      Team  Overturns  Leading to goals for  \\\n",
      "0   Brighton & Hove Albion         12                     2   \n",
      "1        Manchester United         13                     1   \n",
      "2           Crystal Palace         12                     3   \n",
      "3                  Burnley         11                     2   \n",
      "4                Newcastle          3                     1   \n",
      "5              Southampton         13                     0   \n",
      "6                Liverpool          8                     1   \n",
      "7           Leicester City         15                     1   \n",
      "8        Tottenham Hotspur         15                     1   \n",
      "9          Manchester City         16                     3   \n",
      "10                 Arsenal          9                     4   \n",
      "11                 Everton          7                     2   \n",
      "12         AFC Bournemouth         12                     2   \n",
      "13                 Chelsea         12                     2   \n",
      "14                 Watford          6                     1   \n",
      "15             Aston Villa          7                     0   \n",
      "16                West Ham         16                     1   \n",
      "17        Sheffield United         11                     0   \n",
      "18                  Wolves          9                     1   \n",
      "19            Norwich City         11                     0   \n",
      "\n",
      "    Disallowed goals for  Leading to goals against  Disallowed goals against  \\\n",
      "0                      2                         0                         7   \n",
      "1                      0                         2                         7   \n",
      "2                      4                         0                         1   \n",
      "3                      3                         1                         4   \n",
      "4                      0                         0                         0   \n",
      "5                      0                         1                         7   \n",
      "6                      3                         0                         4   \n",
      "7                      3                         1                         4   \n",
      "8                      4                         1                         6   \n",
      "9                      4                         2                         2   \n",
      "10                     2                         1                         0   \n",
      "11                     2                         1                         1   \n",
      "12                     5                         1                         1   \n",
      "13                     4                         2                         2   \n",
      "14                     1                         2                         1   \n",
      "15                     3                         1                         1   \n",
      "16                     5                         5                         4   \n",
      "17                     5                         1                         2   \n",
      "18                     4                         1                         1   \n",
      "19                     2                         2                         2   \n",
      "\n",
      "    Net goal score  Subjective decisions for  Subjective decisions against  \\\n",
      "0                7                         2                             0   \n",
      "1                6                         6                             2   \n",
      "2                2                         6                             2   \n",
      "3                2                         4                             2   \n",
      "4                1                         2                             0   \n",
      "5                6                         1                             4   \n",
      "6                2                         1                             1   \n",
      "7                1                         3                             3   \n",
      "8                2                         3                             3   \n",
      "9               -1                         4                             4   \n",
      "10               1                         1                             4   \n",
      "11               0                         2                             2   \n",
      "12              -3                         2                             4   \n",
      "13              -2                         4                             4   \n",
      "14              -1                         1                             3   \n",
      "15              -3                         2                             3   \n",
      "16              -5                         2                             1   \n",
      "17              -4                         1                             2   \n",
      "18              -3                         2                             1   \n",
      "19              -4                         1                             5   \n",
      "\n",
      "    Net subjective score  \n",
      "0                      2  \n",
      "1                      4  \n",
      "2                      4  \n",
      "3                      2  \n",
      "4                      2  \n",
      "5                     -3  \n",
      "6                      0  \n",
      "7                      0  \n",
      "8                      0  \n",
      "9                      0  \n",
      "10                    -3  \n",
      "11                     0  \n",
      "12                    -2  \n",
      "13                     0  \n",
      "14                    -2  \n",
      "15                    -1  \n",
      "16                     1  \n",
      "17                    -1  \n",
      "18                     1  \n",
      "19                    -4  \n"
     ]
    }
   ],
   "source": [
    "team_Stats = pd.read_csv ('VAR_Team_Stats.csv')\n",
    "print (team_Stats)"
   ]
  },
  {
   "cell_type": "markdown",
   "metadata": {},
   "source": [
    "# 1. For what type of incidents is VAR most used?\n",
    "This question will be answered using the first dataset (i.e. VAR_Incidents_Stats). The dataset will first be cleaned in order to keep only the relevant information. Afterwards, a string search in the \"Incident\" column will be executed, followed by a frequency analysis to determine the frequency of each incident type."
   ]
  },
  {
   "cell_type": "code",
   "execution_count": null,
   "metadata": {},
   "outputs": [],
   "source": [
    "#code etc"
   ]
  },
  {
   "cell_type": "markdown",
   "metadata": {},
   "source": [
    "# 2. Is there a gap between the number of overturned decisions for and against each team? \n",
    "\n",
    "This second question will be answered using the \"VAR_Teams_Stats\" dataset. After cleaning it, the number of overturned decisions for and against each team will be analysed and presented in a suitable manner."
   ]
  },
  {
   "cell_type": "code",
   "execution_count": 10,
   "metadata": {},
   "outputs": [],
   "source": [
    "#code etc"
   ]
  },
  {
   "cell_type": "markdown",
   "metadata": {},
   "source": [
    "## 3. Is the number of disallowed goals significant? Would the season have been different if these goals were not disallowed?\n",
    "\n",
    "This question will also be answered using the second dataset (i.e. VAR_Team_Stats). The aim is to analyse the number of goals that were disallowed by the VAR or attributed thanks to it. An alternative league table will then be calculated and compared with the final 2019-20 Premier League table."
   ]
  },
  {
   "cell_type": "code",
   "execution_count": 11,
   "metadata": {},
   "outputs": [],
   "source": [
    "#code etc"
   ]
  }
 ],
 "metadata": {
  "kernelspec": {
   "display_name": "Python 3",
   "language": "python",
   "name": "python3"
  },
  "language_info": {
   "codemirror_mode": {
    "name": "ipython",
    "version": 3
   },
   "file_extension": ".py",
   "mimetype": "text/x-python",
   "name": "python",
   "nbconvert_exporter": "python",
   "pygments_lexer": "ipython3",
   "version": "3.8.5"
  }
 },
 "nbformat": 4,
 "nbformat_minor": 4
}
